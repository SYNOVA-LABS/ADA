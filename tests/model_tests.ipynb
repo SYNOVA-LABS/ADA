{
 "cells": [
  {
   "cell_type": "markdown",
   "id": "2a532410",
   "metadata": {},
   "source": [
    "# LLM test"
   ]
  },
  {
   "cell_type": "code",
   "execution_count": 2,
   "id": "940a9326",
   "metadata": {},
   "outputs": [
    {
     "name": "stderr",
     "output_type": "stream",
     "text": [
      "llama_init_from_model: n_batch is less than GGML_KQ_MASK_PAD - increasing to 64\n",
      "llama_init_from_model: n_ctx_per_seq (512) < n_ctx_train (2048) -- the full capacity of the model will not be utilized\n",
      "ggml_metal_init: skipping kernel_get_rows_bf16                     (not supported)\n",
      "ggml_metal_init: skipping kernel_mul_mv_bf16_f32                   (not supported)\n",
      "ggml_metal_init: skipping kernel_mul_mv_bf16_f32_1row              (not supported)\n",
      "ggml_metal_init: skipping kernel_mul_mv_bf16_f32_l4                (not supported)\n",
      "ggml_metal_init: skipping kernel_mul_mv_bf16_bf16                  (not supported)\n",
      "ggml_metal_init: skipping kernel_mul_mv_id_bf16_f32                (not supported)\n",
      "ggml_metal_init: skipping kernel_mul_mm_bf16_f32                   (not supported)\n",
      "ggml_metal_init: skipping kernel_mul_mm_id_bf16_f32                (not supported)\n",
      "ggml_metal_init: skipping kernel_flash_attn_ext_bf16_h64           (not supported)\n",
      "ggml_metal_init: skipping kernel_flash_attn_ext_bf16_h80           (not supported)\n",
      "ggml_metal_init: skipping kernel_flash_attn_ext_bf16_h96           (not supported)\n",
      "ggml_metal_init: skipping kernel_flash_attn_ext_bf16_h112          (not supported)\n",
      "ggml_metal_init: skipping kernel_flash_attn_ext_bf16_h128          (not supported)\n",
      "ggml_metal_init: skipping kernel_flash_attn_ext_bf16_h256          (not supported)\n",
      "ggml_metal_init: skipping kernel_flash_attn_ext_vec_bf16_h128      (not supported)\n",
      "ggml_metal_init: skipping kernel_flash_attn_ext_vec_bf16_h256      (not supported)\n",
      "ggml_metal_init: skipping kernel_cpy_f32_bf16                      (not supported)\n",
      "ggml_metal_init: skipping kernel_cpy_bf16_f32                      (not supported)\n",
      "ggml_metal_init: skipping kernel_cpy_bf16_bf16                     (not supported)\n"
     ]
    },
    {
     "name": "stdout",
     "output_type": "stream",
     "text": [
      "Once upon a time, I was a little girl, living in a small village. My parents were kind and loving, and they always made sure I had everything I needed. As I grew older, I became more independent, but I still remained close to them. One day, I received a letter in the mail from a man named Jack. Jack was a wealthy man, and he wanted to marry me. I was shocked and scared. How could he want to marry me when he was so wealthy himself? I knew that if I didn’t marry him, my parents would be angry and I might never see them again. I knew\n"
     ]
    }
   ],
   "source": [
    "# Install with: pip install llama-cpp-python\n",
    "from llama_cpp import Llama\n",
    "\n",
    "\n",
    "# Model path - change this to where you download the model\n",
    "model_path = \"../Models/tinyllama-1.1b-chat-v1.0.Q8_0.gguf\"\n",
    "\n",
    "# Load the model\n",
    "llm = Llama(\n",
    "    model_path=model_path,\n",
    "    n_ctx=512,         # Small context window for faster inference (context win = how much text the model can consider at once) (inc = better at long prompts but more RAM dec = faster less ram but worse at long prompts)\n",
    "    n_threads=4,       # Adjust based on your CPU cores (num of cpu cors to use for parallel processing) (inc = more cpu usage dec = less cpu usage)\n",
    "    n_batch=32,        # Lower batch size for faster inference (num of tokens to process at once) (inc = more tokens at once hencse better throughput dec = less tokens at once)\n",
    "    f16_kv=True,          # Use half-precision for key/value cache\n",
    "    use_mlock=True,       # Keep model in RAM\n",
    "    verbose=False,\n",
    "    n_gpu_layers=-1 \n",
    ")\n",
    "\n",
    "# Test the model\n",
    "output = llm(\n",
    "    \"Once upon a time,\",\n",
    "    max_tokens=128,     # Reduced for faster response\n",
    "    echo=True\n",
    ")\n",
    "print(output[\"choices\"][0][\"text\"])"
   ]
  }
 ],
 "metadata": {
  "kernelspec": {
   "display_name": "venv",
   "language": "python",
   "name": "python3"
  },
  "language_info": {
   "codemirror_mode": {
    "name": "ipython",
    "version": 3
   },
   "file_extension": ".py",
   "mimetype": "text/x-python",
   "name": "python",
   "nbconvert_exporter": "python",
   "pygments_lexer": "ipython3",
   "version": "3.10.10"
  }
 },
 "nbformat": 4,
 "nbformat_minor": 5
}
