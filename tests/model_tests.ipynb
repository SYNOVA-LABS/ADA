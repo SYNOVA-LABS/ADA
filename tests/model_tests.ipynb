{
 "cells": [
  {
   "cell_type": "markdown",
   "id": "2a532410",
   "metadata": {},
   "source": [
    "# LLM test (depreciated no longer used)"
   ]
  },
  {
   "cell_type": "code",
   "execution_count": null,
   "id": "940a9326",
   "metadata": {},
   "outputs": [],
   "source": [
    "# Install with: pip install llama-cpp-python\n",
    "from llama_cpp import Llama\n",
    "\n",
    "\n",
    "# Model path - change this to where you download the model\n",
    "model_path = \"../Models/tinyllama-1.1b-chat-v1.0.Q8_0.gguf\"\n",
    "\n",
    "# Load the model\n",
    "llm = Llama(\n",
    "    model_path=model_path,\n",
    "    n_ctx=512,         # Small context window for faster inference (context win = how much text the model can consider at once) (inc = better at long prompts but more RAM dec = faster less ram but worse at long prompts)\n",
    "    n_threads=4,       # Adjust based on your CPU cores (num of cpu cors to use for parallel processing) (inc = more cpu usage dec = less cpu usage)\n",
    "    n_batch=32,        # Lower batch size for faster inference (num of tokens to process at once) (inc = more tokens at once hencse better throughput dec = less tokens at once)\n",
    "    f16_kv=True,          # Use half-precision for key/value cache\n",
    "    use_mlock=True,       # Keep model in RAM\n",
    "    verbose=False,\n",
    "    n_gpu_layers=-1 \n",
    ")\n",
    "\n",
    "# Test the model\n",
    "output = llm(\n",
    "    \"Once upon a time,\",\n",
    "    max_tokens=128,     # Reduced for faster response\n",
    "    echo=True\n",
    ")\n",
    "print(output[\"choices\"][0][\"text\"])"
   ]
  }
 ],
 "metadata": {
  "kernelspec": {
   "display_name": "venv",
   "language": "python",
   "name": "python3"
  },
  "language_info": {
   "codemirror_mode": {
    "name": "ipython",
    "version": 3
   },
   "file_extension": ".py",
   "mimetype": "text/x-python",
   "name": "python",
   "nbconvert_exporter": "python",
   "pygments_lexer": "ipython3",
   "version": "3.10.10"
  }
 },
 "nbformat": 4,
 "nbformat_minor": 5
}
